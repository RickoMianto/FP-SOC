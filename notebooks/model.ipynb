{
 "cells": [
  {
   "cell_type": "markdown",
   "id": "273f3de2",
   "metadata": {},
   "source": [
    "# Eksplorasi dan Pemodelan untuk Deteksi Anomali DNS\n",
    "\n",
    "Tujuan notebook ini adalah untuk:\n",
    "1. Memuat dan memahami data log DNS.\n",
    "2. Melakukan feature engineering untuk mengekstrak sinyal dari data.\n",
    "3. Melatih model Isolation Forest untuk mendeteksi anomali.\n",
    "4. Menganalisis hasil deteksi."
   ]
  },
  {
   "cell_type": "code",
   "execution_count": null,
   "id": "f4e2a7b4",
   "metadata": {},
   "outputs": [],
   "source": [
    "import pandas as pd\n",
    "import matplotlib.pyplot as plt\n",
    "import seaborn as sns\n",
    "\n",
    "# Import fungsi dari file utils kita\n",
    "import sys\n",
    "sys.path.append('../src')\n",
    "from analysis_utils import feature_engineering, train_and_predict\n",
    "\n",
    "# Atur style plot\n",
    "sns.set_theme(style=\"whitegrid\")"
   ]
  },
  {
   "cell_type": "code",
   "execution_count": null,
   "id": "412b0d3a",
   "metadata": {},
   "outputs": [],
   "source": [
    "# Muat data dari file CSV\n",
    "df = pd.read_csv('../data/dns_logs.csv')\n",
    "print(\"Data Awal:\")\n",
    "df.head()"
   ]
  },
  {
   "cell_type": "markdown",
   "id": "8c5bb718",
   "metadata": {},
   "source": [
    "## 2. Feature Engineering\n",
    "Kita akan menambahkan fitur-fitur yang sudah kita definisikan (`query_length`, `query_entropy`, `subdomain_count`) menggunakan fungsi dari `analysis_utils`."
   ]
  },
  {
   "cell_type": "code",
   "execution_count": null,
   "id": "5635f285",
   "metadata": {},
   "outputs": [],
   "source": [
    "# Terapkan feature engineering\n",
    "df_featured = feature_engineering(df)\n",
    "print(\"Data dengan Fitur Baru:\")\n",
    "df_featured.head()"
   ]
  },
  {
   "cell_type": "markdown",
   "id": "6a8f4f90",
   "metadata": {},
   "source": [
    "## 3. Eksplorasi Data (EDA)\n",
    "Mari kita visualisasikan fitur-fitur baru untuk melihat apakah anomali terlihat menonjol."
   ]
  },
  {
   "cell_type": "code",
   "execution_count": null,
   "id": "344bfd81",
   "metadata": {},
   "outputs": [],
   "source": [
    "# Visualisasi distribusi entropy\n",
    "plt.figure(figsize=(10, 6))\n",
    "sns.histplot(df_featured['query_entropy'], bins=20, kde=True)\n",
    "plt.title('Distribusi Entropy dari Query DNS')\n",
    "plt.xlabel('Shannon Entropy')\n",
    "plt.ylabel('Frekuensi')\n",
    "plt.show()\n",
    "\n",
    "# Query dengan entropy tinggi kemungkinan adalah anomali."
   ]
  },
  {
   "cell_type": "code",
   "execution_count": null,
   "id": "97e87d3c",
   "metadata": {},
   "outputs": [],
   "source": [
    "# Visualisasi panjang query vs entropy\n",
    "plt.figure(figsize=(10, 6))\n",
    "sns.scatterplot(data=df_featured, x='query_length', y='query_entropy')\n",
    "plt.title('Panjang Query vs. Entropy')\n",
    "plt.xlabel('Panjang Query')\n",
    "plt.ylabel('Shannon Entropy')\n",
    "plt.show()\n",
    "\n",
    "# Titik-titik di kanan atas adalah kandidat kuat anomali."
   ]
  },
  {
   "cell_type": "markdown",
   "id": "ad72e5a6",
   "metadata": {},
   "source": [
    "## 4. Pemodelan dan Deteksi\n",
    "Sekarang kita latih model `IsolationForest` dan lihat apa yang dideteksinya."
   ]
  },
  {
   "cell_type": "code",
   "execution_count": null,
   "id": "8538eced",
   "metadata": {},
   "outputs": [],
   "source": [
    "# Tentukan kolom fitur yang akan digunakan\n",
    "feature_cols = ['query_length', 'query_entropy', 'subdomain_count']\n",
    "\n",
    "# Latih model dan dapatkan prediksi\n",
    "predictions = train_and_predict(df_featured, feature_cols)\n",
    "df_featured['is_anomaly'] = predictions\n",
    "\n",
    "# Tampilkan hasil deteksi\n",
    "anomalies = df_featured[df_featured['is_anomaly'] == -1]\n",
    "\n",
    "print(\"\\n--- ANOMALI TERDETEKSI ---\")\n",
    "print(anomalies)"
   ]
  }
 ],
 "metadata": {
  "language_info": {
   "name": "python"
  }
 },
 "nbformat": 4,
 "nbformat_minor": 5
}
